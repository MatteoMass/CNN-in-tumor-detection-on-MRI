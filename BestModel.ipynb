{
  "nbformat": 4,
  "nbformat_minor": 0,
  "metadata": {
    "colab": {
      "name": "BestModel",
      "provenance": [],
      "collapsed_sections": []
    },
    "kernelspec": {
      "name": "python3",
      "display_name": "Python 3"
    },
    "language_info": {
      "name": "python"
    }
  },
  "cells": [
    {
      "cell_type": "code",
      "execution_count": null,
      "metadata": {
        "id": "EI1fEylzVxEg"
      },
      "outputs": [],
      "source": [
        "# Seed value\n",
        "seed_value= 0\n",
        "\n",
        "# 1. Set the `PYTHONHASHSEED` environment variable at a fixed value\n",
        "import os\n",
        "os.environ['PYTHONHASHSEED']=str(seed_value)\n",
        "\n",
        "\n",
        "# 2. Set the `python` built-in pseudo-random generator at a fixed value\n",
        "import random\n",
        "random.seed(seed_value)\n",
        "\n",
        "# 3. Set the `numpy` pseudo-random generator at a fixed value\n",
        "import numpy as np\n",
        "np.random.seed(seed_value)\n",
        "\n",
        "# 4. Set the `tensorflow` pseudo-random generator at a fixed value\n",
        "os.environ['TF_CUDNN_DETERMINISTIC'] = '1'\n",
        "\n",
        "import tensorflow as tf\n",
        "tf.compat.v1.set_random_seed(seed_value)\n",
        "\n",
        "# 5. Configure a new global `tensorflow` session\n",
        "from keras import backend as K\n",
        "session_conf = tf.compat.v1.ConfigProto(intra_op_parallelism_threads=1, inter_op_parallelism_threads=1)\n",
        "sess = tf.compat.v1.Session(graph=tf.compat.v1.get_default_graph(), config=session_conf)\n",
        "tf.compat.v1.keras.backend.set_session(sess)"
      ]
    },
    {
      "cell_type": "code",
      "source": [
        "import sys\n",
        "sys.path.append('/content/drive/MyDrive/ISPR/modules/')\n",
        "from metrics import dice_coef\n",
        "from Unet import getUnetModel\n",
        "from losses import dice_loss, tversky_Loss"
      ],
      "metadata": {
        "id": "pxEdB0NCV1Q0"
      },
      "execution_count": null,
      "outputs": []
    },
    {
      "cell_type": "markdown",
      "source": [
        "# Load Data"
      ],
      "metadata": {
        "id": "ZuaCw-hkV_dn"
      }
    },
    {
      "cell_type": "code",
      "source": [
        "import cv2\n",
        "from PIL import Image\n",
        "from matplotlib import pyplot as plt"
      ],
      "metadata": {
        "id": "hUxM9u-CV26t"
      },
      "execution_count": null,
      "outputs": []
    },
    {
      "cell_type": "code",
      "source": [
        "SIZE = 128\n",
        "image_dataset = []\n",
        "mask_dataset = []\n",
        "\n",
        "image_directory = \"/content/drive/MyDrive/ISPR/immagini_x_\"+str(SIZE)+\"/\"\n",
        "mask_directory = \"/content/drive/MyDrive/ISPR/immagini_y_\"+str(SIZE)+\"/\""
      ],
      "metadata": {
        "id": "JLt7lhf1WCud"
      },
      "execution_count": null,
      "outputs": []
    },
    {
      "cell_type": "code",
      "source": [
        "#Images\n",
        "images = os.listdir(image_directory)\n",
        "images.sort()\n",
        "for i, image_name in enumerate(images): \n",
        "    if (image_name.split('.')[1] == 'jpg'):\n",
        "        image = cv2.imread(image_directory+image_name, 0)\n",
        "        image = Image.fromarray(image)\n",
        "        image_dataset.append(np.array(image))\n",
        "\n",
        "#Masks\n",
        "masks = os.listdir(mask_directory)\n",
        "masks.sort()\n",
        "for i, image_name in enumerate(masks):\n",
        "    if (image_name.split('.')[1] == 'jpg' ):\n",
        "        image = cv2.imread(mask_directory+image_name, 0)\n",
        "        image = Image.fromarray(image)\n",
        "        mask_dataset.append(np.array(image))"
      ],
      "metadata": {
        "id": "q9Ub65InWE7N"
      },
      "execution_count": null,
      "outputs": []
    },
    {
      "cell_type": "code",
      "source": [
        "#Expand the dimension of the image dataset to include also the number of channels\n",
        "image_dataset = np.expand_dims(image_dataset,3)\n",
        "#Expand the dimension of the mask dataset to include also the number of channels\n",
        "#and threshold the data to obtain feasible masks\n",
        "mask_dataset = np.clip(np.expand_dims((np.array(mask_dataset)),3) - 200.0,0,1)"
      ],
      "metadata": {
        "id": "-tSI00xCWF7l"
      },
      "execution_count": null,
      "outputs": []
    },
    {
      "cell_type": "code",
      "source": [
        "#Train Test split\n",
        "from sklearn.model_selection import train_test_split\n",
        "X_train, X_test, y_train, y_test = train_test_split(image_dataset, mask_dataset, test_size = 0.1, random_state = 0)"
      ],
      "metadata": {
        "id": "QR9hca_6WHCe"
      },
      "execution_count": null,
      "outputs": []
    },
    {
      "cell_type": "code",
      "source": [
        "#sample data\n",
        "import random\n",
        "import numpy as np\n",
        "image_number = random.randint(0, len(X_train))\n",
        "plt.figure(figsize=(12, 6))\n",
        "plt.subplot(121)\n",
        "plt.imshow(np.reshape(image_dataset[image_number], (SIZE, SIZE)), cmap='gray')\n",
        "plt.subplot(122)\n",
        "plt.imshow(np.reshape(mask_dataset[image_number], (SIZE, SIZE)), cmap='gray')\n",
        "plt.show()"
      ],
      "metadata": {
        "id": "ItB-IlA4WIN9"
      },
      "execution_count": null,
      "outputs": []
    },
    {
      "cell_type": "markdown",
      "source": [
        "# Model"
      ],
      "metadata": {
        "id": "ciAXW7N8WJIN"
      }
    },
    {
      "cell_type": "code",
      "source": [
        "path = [32, 64, 128,256]\n",
        "bridge = 512\n",
        "dropout = 0.1\n",
        "loss = 'binary_crossentropy'\n",
        "\n",
        "model = getUnetModel(SIZE, path, bridge, dropout, loss)\n",
        "\n",
        "\n",
        "history = model.fit(X_train, y_train, \n",
        "                    batch_size = 16, \n",
        "                    verbose=1, \n",
        "                    epochs=20,\n",
        "                    shuffle=False)\n",
        "\n"
      ],
      "metadata": {
        "id": "0iRIatnXWKIF"
      },
      "execution_count": null,
      "outputs": []
    },
    {
      "cell_type": "code",
      "source": [
        "model.save('/content/drive/MyDrive/ISPR/bestSavedModel/model')"
      ],
      "metadata": {
        "id": "5z3ij1-A9od4"
      },
      "execution_count": null,
      "outputs": []
    },
    {
      "cell_type": "code",
      "source": [
        "from tensorflow import keras\n",
        "model = keras.models.load_model('/content/drive/MyDrive/ISPR/bestSavedModel/model', custom_objects = {'dice_coef': dice_coef})"
      ],
      "metadata": {
        "id": "u1-O-si6YP_8"
      },
      "execution_count": null,
      "outputs": []
    },
    {
      "cell_type": "code",
      "source": [
        "pred = model.predict(X_test)\n",
        "pred[pred >= 0.5] = 1\n",
        "pred[pred < 0.5] = 0\n",
        "\n",
        "testDiceCoeff = dice_coef(pred.astype(float), y_test.astype(float))\n",
        "print(\"The dice coefficient is: \" + str(testDiceCoeff.numpy()))"
      ],
      "metadata": {
        "id": "m3Ne6pwmYwDH"
      },
      "execution_count": null,
      "outputs": []
    },
    {
      "cell_type": "code",
      "source": [
        "image_number = random.randint(0, len(X_test))\n",
        "plt.figure(figsize=(12, 6))\n",
        "plt.subplot(131)\n",
        "plt.imshow(np.reshape(X_test[image_number], (SIZE, SIZE)), cmap='gray')\n",
        "plt.subplot(132)\n",
        "plt.imshow(np.reshape(y_test[image_number], (SIZE, SIZE)), cmap='gray')\n",
        "plt.subplot(133)\n",
        "pred = model.predict(X_test[image_number].reshape(1,SIZE,SIZE,1))\n",
        "pred[pred >= 0.5] = 1\n",
        "pred[pred < 0.5] = 0\n",
        "plt.imshow(np.reshape(pred, (SIZE, SIZE)), cmap='gray')\n",
        "plt.show()"
      ],
      "metadata": {
        "id": "etr6pk_6Y1W1"
      },
      "execution_count": null,
      "outputs": []
    },
    {
      "cell_type": "markdown",
      "source": [
        "# Healthy brain"
      ],
      "metadata": {
        "id": "aK4ejKY-KuYH"
      }
    },
    {
      "cell_type": "code",
      "source": [
        "from PIL import Image\n",
        "healtyBrain = \"/content/drive/MyDrive/ISPR/healtyBrain.jpg\"\n",
        "healtyBrainImage = Image.open(healtyBrain).convert('L')\n",
        "healtyBrainImage.thumbnail((SIZE,SIZE))\n",
        "healtyBrainImage = np.asarray(healtyBrainImage)"
      ],
      "metadata": {
        "id": "WSJv8Pq6DwPc"
      },
      "execution_count": null,
      "outputs": []
    },
    {
      "cell_type": "code",
      "source": [
        "plt.figure(figsize=(12, 6))\n",
        "plt.subplot(121)\n",
        "plt.imshow(healtyBrainImage, cmap='gray')\n",
        "plt.subplot(122)\n",
        "\n",
        "pred = model.predict(healtyBrainImage.reshape(1,SIZE,SIZE,1))\n",
        "pred[pred >= 0.5] = 1\n",
        "pred[pred < 0.5] = 0\n",
        "plt.imshow(np.reshape(pred, (SIZE, SIZE)), cmap='gray')\n",
        "plt.show()"
      ],
      "metadata": {
        "id": "-J8bG-cSGGtF"
      },
      "execution_count": null,
      "outputs": []
    }
  ]
}